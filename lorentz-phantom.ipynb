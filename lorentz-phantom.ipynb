{
 "cells": [
  {
   "cell_type": "code",
   "execution_count": 1,
   "metadata": {
    "collapsed": true
   },
   "outputs": [],
   "source": [
    "import numpy as np\n",
    "import matplotlib.pylab as pylab\n",
    "# %matplotlib inline"
   ]
  },
  {
   "cell_type": "code",
   "execution_count": 2,
   "metadata": {
    "collapsed": false
   },
   "outputs": [],
   "source": [
    "def ellipsoid(params, shape=None, out=None):\n",
    "    \"\"\"\n",
    "    Generate a rectangle containing an ellipse defined by its parameters.\n",
    "    If out is given, fills the given cube instead of creating a new one.\n",
    "    \"\"\"\n",
    "    # handle inputs\n",
    "    if shape is None and out is None:\n",
    "        raise ValueError(\"You need to set shape or out\")\n",
    "    if out is None:\n",
    "        out = np.zeros(shape)\n",
    "    if shape is None:\n",
    "        shape = out.shape\n",
    "    if len(shape) == 1:\n",
    "        shape = shape, shape\n",
    "    elif len(shape) > 2:\n",
    "        raise ValueError(\"input shape must be lower or equal to 2\")\n",
    "    \n",
    "    # define coords\n",
    "    coords = define_coords(shape)\n",
    "\n",
    "    # rotate coords\n",
    "    coords = transform(coords, params)\n",
    "\n",
    "    # recast as ndarray\n",
    "    coords = [np.asarray(u) for u in coords]\n",
    "\n",
    "    # reshape coords\n",
    "    x, y = coords\n",
    "    x.resize(shape)\n",
    "    y.resize(shape)\n",
    "\n",
    "    # fill ellipsoid with value\n",
    "    out[(x ** 2 + y ** 2) <= 1.] += params['mag']\n",
    "    return out\n",
    "\n",
    "def rotation_matrix(p):\n",
    "    \"\"\"\n",
    "    Defines a rotation matrix from angle phi.\n",
    "    \"\"\"\n",
    "    cphi = np.cos(np.radians(p['phi']))\n",
    "    sphi = np.sin(np.radians(p['phi']))\n",
    "    alpha = [[cphi, sphi], [-sphi, cphi]]\n",
    "    return np.asarray(alpha)\n",
    "\n",
    "def transform(coords, p):\n",
    "    \"\"\"\n",
    "    Apply rotation and translation to a 2-tuple of coords.\n",
    "    \"\"\"\n",
    "    alpha = rotation_matrix(p)\n",
    "    x, y = coords\n",
    "    ndim = len(coords)\n",
    "    out_coords = [sum([alpha[j, i] * coords[i] for i in range(ndim)])\n",
    "                  for j in range(ndim)]\n",
    "    M0 = [p['x'], p['y']]\n",
    "    sc = [p['a'], p['b']]\n",
    "    out_coords = [(u - u0) / su for u, u0, su in zip(out_coords, M0, sc)]\n",
    "    return out_coords\n",
    "\n",
    "def define_coords(shape):\n",
    "    \"\"\"\n",
    "    Generate a tuple of coords in 2D with a given shape.\n",
    "    \"\"\"\n",
    "    cshape = np.asarray(1j) * shape\n",
    "    x, y = np.mgrid[-1:1:cshape[0], -1:1:cshape[1]]\n",
    "    return x, y"
   ]
  },
  {
   "cell_type": "code",
   "execution_count": 117,
   "metadata": {
    "collapsed": false
   },
   "outputs": [],
   "source": [
    "def generate(lst, t, t_num):\n",
    "    shape_list = []\n",
    "    par_list = []\n",
    "    for l in lst:\n",
    "        if l['op']=='define':\n",
    "            e = l.copy()\n",
    "            shape_list.append(e)\n",
    "            pard = {}\n",
    "            for key in l:\n",
    "                if not (key=='op' or key=='id' or key=='shape'):\n",
    "                    pard[key] = np.ones(t_num)*l[key]\n",
    "            par_list.append(pard)\n",
    "        elif l['op']=='adjust':\n",
    "            cl = par_list[l['id']][l['var']]\n",
    "            cl[l['t_start']:l['t_end']] = np.linspace(cl[l['t_start']],l['new_val'],l['t_end']-l['t_start'])\n",
    "            cl[l['t_end']-1:] = l['new_val']\n",
    "    imgs = []\n",
    "    for i in range(t_num):\n",
    "        for key in ['a','b','phi','x','y']:\n",
    "            shape_list[0][key] = par_list[0][key][i]\n",
    "        imgs.append(ellipsoid(shape_list[0], shape=(64,64)))\n",
    "    return imgs"
   ]
  },
  {
   "cell_type": "code",
   "execution_count": 235,
   "metadata": {
    "collapsed": false
   },
   "outputs": [],
   "source": [
    "def_operation = {\"op\":\"define\", \"id\":0, \"shape\":\"ellipse\", \"x\":-0.4,\"y\":-0.4, \"a\":0.4, \"b\":0.4, \"phi\":0, \"mag\":1}\n",
    "shiftx = {\"op\":\"adjust\", \"id\":0,\"var\":\"x\", \"new_val\":0.4, \"function\":\"linear\", \"t_start\":0, \"t_end\":100}\n",
    "shifty = {\"op\":\"adjust\", \"id\":0,\"var\":\"y\", \"new_val\":0.4, \"function\":\"linear\", \"t_start\":0, \"t_end\":100}\n",
    "rot = {\"op\":\"adjust\", \"id\":0,\"var\":\"phi\", \"new_val\":80, \"function\":\"linear\", \"t_start\":0, \"t_end\":100}\n",
    "stretchx = {\"op\":\"adjust\", \"id\":0,\"var\":\"a\", \"new_val\":0.8, \"function\":\"linear\", \"t_start\":10, \"t_end\":90}\n",
    "stretchy = {\"op\":\"adjust\", \"id\":0,\"var\":\"b\", \"new_val\":0.3, \"function\":\"linear\", \"t_start\":10, \"t_end\":90}\n",
    "\n",
    "\n",
    "import json\n",
    "jsonstr = json.dumps([def_operation, shiftx, shifty])"
   ]
  },
  {
   "cell_type": "code",
   "execution_count": 236,
   "metadata": {
    "collapsed": false
   },
   "outputs": [],
   "source": [
    "lst = json.loads(jsonstr)\n",
    "t_num = 180\n",
    "imgs = generate(lst, 1, t_num)"
   ]
  },
  {
   "cell_type": "code",
   "execution_count": 237,
   "metadata": {
    "collapsed": false
   },
   "outputs": [],
   "source": [
    "import tomopy\n",
    "prj = np.zeros((t_num, 1, 94))\n",
    "ang = np.linspace(0, 4*np.pi, t_num)\n",
    "for i, img in enumerate(imgs):\n",
    "    prj[i] = tomopy.project(np.expand_dims(img, 0), ang[i])"
   ]
  },
  {
   "cell_type": "code",
   "execution_count": 275,
   "metadata": {
    "collapsed": false
   },
   "outputs": [],
   "source": [
    "# rec = tomopy.recon(prj, ang, algorithm='sirt', num_iter=60)\n",
    "# rec1 = tomopy.recon(prj[-110:], ang[-110:], algorithm='gridrec')\n",
    "# rec2 = tomopy.recon(prj[-110:], ang[-110:], algorithm='art', num_iter=1)\n",
    "rec1 = tomopy.recon(prj, ang, algorithm='gridrec')\n",
    "rec2 = tomopy.recon(prj, ang, algorithm='art', num_iter=1)"
   ]
  },
  {
   "cell_type": "code",
   "execution_count": 276,
   "metadata": {
    "collapsed": true
   },
   "outputs": [],
   "source": [
    "pylab.subplot(131)\n",
    "pylab.imshow(imgs[0]+imgs[t_num-1], cmap='gray')\n",
    "\n",
    "pylab.subplot(132)\n",
    "pylab.imshow(rec1[0, 15:79, 15:79], cmap='gray')\n",
    "\n",
    "pylab.subplot(133)\n",
    "pylab.imshow(rec2[0, 15:79, 15:79], cmap='gray')\n",
    "pylab.show()"
   ]
  },
  {
   "cell_type": "code",
   "execution_count": null,
   "metadata": {
    "collapsed": true
   },
   "outputs": [],
   "source": [
    "pylab.imshow(prj[:, 0, :], cmap='gray')\n",
    "pylab.show()"
   ]
  },
  {
   "cell_type": "code",
   "execution_count": 120,
   "metadata": {
    "collapsed": false
   },
   "outputs": [],
   "source": [
    "import scipy.misc as sm\n",
    "for i, img in enumerate(imgs):\n",
    "    sm.imsave('/tmp/img{:04}.png'.format(i),img)"
   ]
  }
 ],
 "metadata": {
  "kernelspec": {
   "display_name": "Python 2",
   "language": "python",
   "name": "python2"
  },
  "language_info": {
   "codemirror_mode": {
    "name": "ipython",
    "version": 2
   },
   "file_extension": ".py",
   "mimetype": "text/x-python",
   "name": "python",
   "nbconvert_exporter": "python",
   "pygments_lexer": "ipython2",
   "version": "2.7.11"
  }
 },
 "nbformat": 4,
 "nbformat_minor": 0
}
